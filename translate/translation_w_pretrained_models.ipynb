{
  "nbformat": 4,
  "nbformat_minor": 0,
  "metadata": {
    "colab": {
      "provenance": [],
      "machine_shape": "hm"
    },
    "kernelspec": {
      "name": "python3",
      "display_name": "Python 3"
    },
    "language_info": {
      "name": "python"
    },
    "accelerator": "GPU",
    "gpuClass": "premium",
    "widgets": {
      "application/vnd.jupyter.widget-state+json": {
        "cc379db0012347e7935c93b273c71708": {
          "model_module": "@jupyter-widgets/controls",
          "model_name": "HBoxModel",
          "model_module_version": "1.5.0",
          "state": {
            "_dom_classes": [],
            "_model_module": "@jupyter-widgets/controls",
            "_model_module_version": "1.5.0",
            "_model_name": "HBoxModel",
            "_view_count": null,
            "_view_module": "@jupyter-widgets/controls",
            "_view_module_version": "1.5.0",
            "_view_name": "HBoxView",
            "box_style": "",
            "children": [
              "IPY_MODEL_ab54c2f16d7348889ea71717c34a78a4",
              "IPY_MODEL_3761def4b6f3469d9b8b73344f822312",
              "IPY_MODEL_a097543f147640488f8c7d040a645263"
            ],
            "layout": "IPY_MODEL_affb92a8259e44db94f7ec27376f2763"
          }
        },
        "ab54c2f16d7348889ea71717c34a78a4": {
          "model_module": "@jupyter-widgets/controls",
          "model_name": "HTMLModel",
          "model_module_version": "1.5.0",
          "state": {
            "_dom_classes": [],
            "_model_module": "@jupyter-widgets/controls",
            "_model_module_version": "1.5.0",
            "_model_name": "HTMLModel",
            "_view_count": null,
            "_view_module": "@jupyter-widgets/controls",
            "_view_module_version": "1.5.0",
            "_view_name": "HTMLView",
            "description": "",
            "description_tooltip": null,
            "layout": "IPY_MODEL_ad31c4a7d4704a2b89fac8e57835c508",
            "placeholder": "​",
            "style": "IPY_MODEL_2e94cbebde5f4337b22c6ce479db57c8",
            "value": "Downloading: 100%"
          }
        },
        "3761def4b6f3469d9b8b73344f822312": {
          "model_module": "@jupyter-widgets/controls",
          "model_name": "FloatProgressModel",
          "model_module_version": "1.5.0",
          "state": {
            "_dom_classes": [],
            "_model_module": "@jupyter-widgets/controls",
            "_model_module_version": "1.5.0",
            "_model_name": "FloatProgressModel",
            "_view_count": null,
            "_view_module": "@jupyter-widgets/controls",
            "_view_module_version": "1.5.0",
            "_view_name": "ProgressView",
            "bar_style": "success",
            "description": "",
            "description_tooltip": null,
            "layout": "IPY_MODEL_4d87c01dfc694df8b5b9885ee4bea082",
            "max": 791656,
            "min": 0,
            "orientation": "horizontal",
            "style": "IPY_MODEL_360123a24b9a470ea9b1d6d5319bcf5d",
            "value": 791656
          }
        },
        "a097543f147640488f8c7d040a645263": {
          "model_module": "@jupyter-widgets/controls",
          "model_name": "HTMLModel",
          "model_module_version": "1.5.0",
          "state": {
            "_dom_classes": [],
            "_model_module": "@jupyter-widgets/controls",
            "_model_module_version": "1.5.0",
            "_model_name": "HTMLModel",
            "_view_count": null,
            "_view_module": "@jupyter-widgets/controls",
            "_view_module_version": "1.5.0",
            "_view_name": "HTMLView",
            "description": "",
            "description_tooltip": null,
            "layout": "IPY_MODEL_3add83fec8bf47a4b3811d703434318e",
            "placeholder": "​",
            "style": "IPY_MODEL_f2d0a9a5ff6f498d85def963342d1fbf",
            "value": " 792k/792k [00:00&lt;00:00, 6.75MB/s]"
          }
        },
        "affb92a8259e44db94f7ec27376f2763": {
          "model_module": "@jupyter-widgets/base",
          "model_name": "LayoutModel",
          "model_module_version": "1.2.0",
          "state": {
            "_model_module": "@jupyter-widgets/base",
            "_model_module_version": "1.2.0",
            "_model_name": "LayoutModel",
            "_view_count": null,
            "_view_module": "@jupyter-widgets/base",
            "_view_module_version": "1.2.0",
            "_view_name": "LayoutView",
            "align_content": null,
            "align_items": null,
            "align_self": null,
            "border": null,
            "bottom": null,
            "display": null,
            "flex": null,
            "flex_flow": null,
            "grid_area": null,
            "grid_auto_columns": null,
            "grid_auto_flow": null,
            "grid_auto_rows": null,
            "grid_column": null,
            "grid_gap": null,
            "grid_row": null,
            "grid_template_areas": null,
            "grid_template_columns": null,
            "grid_template_rows": null,
            "height": null,
            "justify_content": null,
            "justify_items": null,
            "left": null,
            "margin": null,
            "max_height": null,
            "max_width": null,
            "min_height": null,
            "min_width": null,
            "object_fit": null,
            "object_position": null,
            "order": null,
            "overflow": null,
            "overflow_x": null,
            "overflow_y": null,
            "padding": null,
            "right": null,
            "top": null,
            "visibility": null,
            "width": null
          }
        },
        "ad31c4a7d4704a2b89fac8e57835c508": {
          "model_module": "@jupyter-widgets/base",
          "model_name": "LayoutModel",
          "model_module_version": "1.2.0",
          "state": {
            "_model_module": "@jupyter-widgets/base",
            "_model_module_version": "1.2.0",
            "_model_name": "LayoutModel",
            "_view_count": null,
            "_view_module": "@jupyter-widgets/base",
            "_view_module_version": "1.2.0",
            "_view_name": "LayoutView",
            "align_content": null,
            "align_items": null,
            "align_self": null,
            "border": null,
            "bottom": null,
            "display": null,
            "flex": null,
            "flex_flow": null,
            "grid_area": null,
            "grid_auto_columns": null,
            "grid_auto_flow": null,
            "grid_auto_rows": null,
            "grid_column": null,
            "grid_gap": null,
            "grid_row": null,
            "grid_template_areas": null,
            "grid_template_columns": null,
            "grid_template_rows": null,
            "height": null,
            "justify_content": null,
            "justify_items": null,
            "left": null,
            "margin": null,
            "max_height": null,
            "max_width": null,
            "min_height": null,
            "min_width": null,
            "object_fit": null,
            "object_position": null,
            "order": null,
            "overflow": null,
            "overflow_x": null,
            "overflow_y": null,
            "padding": null,
            "right": null,
            "top": null,
            "visibility": null,
            "width": null
          }
        },
        "2e94cbebde5f4337b22c6ce479db57c8": {
          "model_module": "@jupyter-widgets/controls",
          "model_name": "DescriptionStyleModel",
          "model_module_version": "1.5.0",
          "state": {
            "_model_module": "@jupyter-widgets/controls",
            "_model_module_version": "1.5.0",
            "_model_name": "DescriptionStyleModel",
            "_view_count": null,
            "_view_module": "@jupyter-widgets/base",
            "_view_module_version": "1.2.0",
            "_view_name": "StyleView",
            "description_width": ""
          }
        },
        "4d87c01dfc694df8b5b9885ee4bea082": {
          "model_module": "@jupyter-widgets/base",
          "model_name": "LayoutModel",
          "model_module_version": "1.2.0",
          "state": {
            "_model_module": "@jupyter-widgets/base",
            "_model_module_version": "1.2.0",
            "_model_name": "LayoutModel",
            "_view_count": null,
            "_view_module": "@jupyter-widgets/base",
            "_view_module_version": "1.2.0",
            "_view_name": "LayoutView",
            "align_content": null,
            "align_items": null,
            "align_self": null,
            "border": null,
            "bottom": null,
            "display": null,
            "flex": null,
            "flex_flow": null,
            "grid_area": null,
            "grid_auto_columns": null,
            "grid_auto_flow": null,
            "grid_auto_rows": null,
            "grid_column": null,
            "grid_gap": null,
            "grid_row": null,
            "grid_template_areas": null,
            "grid_template_columns": null,
            "grid_template_rows": null,
            "height": null,
            "justify_content": null,
            "justify_items": null,
            "left": null,
            "margin": null,
            "max_height": null,
            "max_width": null,
            "min_height": null,
            "min_width": null,
            "object_fit": null,
            "object_position": null,
            "order": null,
            "overflow": null,
            "overflow_x": null,
            "overflow_y": null,
            "padding": null,
            "right": null,
            "top": null,
            "visibility": null,
            "width": null
          }
        },
        "360123a24b9a470ea9b1d6d5319bcf5d": {
          "model_module": "@jupyter-widgets/controls",
          "model_name": "ProgressStyleModel",
          "model_module_version": "1.5.0",
          "state": {
            "_model_module": "@jupyter-widgets/controls",
            "_model_module_version": "1.5.0",
            "_model_name": "ProgressStyleModel",
            "_view_count": null,
            "_view_module": "@jupyter-widgets/base",
            "_view_module_version": "1.2.0",
            "_view_name": "StyleView",
            "bar_color": null,
            "description_width": ""
          }
        },
        "3add83fec8bf47a4b3811d703434318e": {
          "model_module": "@jupyter-widgets/base",
          "model_name": "LayoutModel",
          "model_module_version": "1.2.0",
          "state": {
            "_model_module": "@jupyter-widgets/base",
            "_model_module_version": "1.2.0",
            "_model_name": "LayoutModel",
            "_view_count": null,
            "_view_module": "@jupyter-widgets/base",
            "_view_module_version": "1.2.0",
            "_view_name": "LayoutView",
            "align_content": null,
            "align_items": null,
            "align_self": null,
            "border": null,
            "bottom": null,
            "display": null,
            "flex": null,
            "flex_flow": null,
            "grid_area": null,
            "grid_auto_columns": null,
            "grid_auto_flow": null,
            "grid_auto_rows": null,
            "grid_column": null,
            "grid_gap": null,
            "grid_row": null,
            "grid_template_areas": null,
            "grid_template_columns": null,
            "grid_template_rows": null,
            "height": null,
            "justify_content": null,
            "justify_items": null,
            "left": null,
            "margin": null,
            "max_height": null,
            "max_width": null,
            "min_height": null,
            "min_width": null,
            "object_fit": null,
            "object_position": null,
            "order": null,
            "overflow": null,
            "overflow_x": null,
            "overflow_y": null,
            "padding": null,
            "right": null,
            "top": null,
            "visibility": null,
            "width": null
          }
        },
        "f2d0a9a5ff6f498d85def963342d1fbf": {
          "model_module": "@jupyter-widgets/controls",
          "model_name": "DescriptionStyleModel",
          "model_module_version": "1.5.0",
          "state": {
            "_model_module": "@jupyter-widgets/controls",
            "_model_module_version": "1.5.0",
            "_model_name": "DescriptionStyleModel",
            "_view_count": null,
            "_view_module": "@jupyter-widgets/base",
            "_view_module_version": "1.2.0",
            "_view_name": "StyleView",
            "description_width": ""
          }
        },
        "7e63ddf1b90443aeb602acb639e90b91": {
          "model_module": "@jupyter-widgets/controls",
          "model_name": "HBoxModel",
          "model_module_version": "1.5.0",
          "state": {
            "_dom_classes": [],
            "_model_module": "@jupyter-widgets/controls",
            "_model_module_version": "1.5.0",
            "_model_name": "HBoxModel",
            "_view_count": null,
            "_view_module": "@jupyter-widgets/controls",
            "_view_module_version": "1.5.0",
            "_view_name": "HBoxView",
            "box_style": "",
            "children": [
              "IPY_MODEL_2b9d9728c454472eae6287421c026091",
              "IPY_MODEL_6c7bd70607bb45a9b1b49e51f1500a61",
              "IPY_MODEL_13171dd06fbc45249cb0b6568491ed90"
            ],
            "layout": "IPY_MODEL_3512224f8a0d4075a9f204591aa13a6b"
          }
        },
        "2b9d9728c454472eae6287421c026091": {
          "model_module": "@jupyter-widgets/controls",
          "model_name": "HTMLModel",
          "model_module_version": "1.5.0",
          "state": {
            "_dom_classes": [],
            "_model_module": "@jupyter-widgets/controls",
            "_model_module_version": "1.5.0",
            "_model_name": "HTMLModel",
            "_view_count": null,
            "_view_module": "@jupyter-widgets/controls",
            "_view_module_version": "1.5.0",
            "_view_name": "HTMLView",
            "description": "",
            "description_tooltip": null,
            "layout": "IPY_MODEL_cd3a066b3b1845969e740e6d8a7033ba",
            "placeholder": "​",
            "style": "IPY_MODEL_3181b3ec659947b795659044ba3854a5",
            "value": "Downloading: 100%"
          }
        },
        "6c7bd70607bb45a9b1b49e51f1500a61": {
          "model_module": "@jupyter-widgets/controls",
          "model_name": "FloatProgressModel",
          "model_module_version": "1.5.0",
          "state": {
            "_dom_classes": [],
            "_model_module": "@jupyter-widgets/controls",
            "_model_module_version": "1.5.0",
            "_model_name": "FloatProgressModel",
            "_view_count": null,
            "_view_module": "@jupyter-widgets/controls",
            "_view_module_version": "1.5.0",
            "_view_name": "ProgressView",
            "bar_style": "success",
            "description": "",
            "description_tooltip": null,
            "layout": "IPY_MODEL_5cf6c264802c4670b51b4e9d71eed57d",
            "max": 1197,
            "min": 0,
            "orientation": "horizontal",
            "style": "IPY_MODEL_ed915f3c44fc4338bf6a1970b201bbca",
            "value": 1197
          }
        },
        "13171dd06fbc45249cb0b6568491ed90": {
          "model_module": "@jupyter-widgets/controls",
          "model_name": "HTMLModel",
          "model_module_version": "1.5.0",
          "state": {
            "_dom_classes": [],
            "_model_module": "@jupyter-widgets/controls",
            "_model_module_version": "1.5.0",
            "_model_name": "HTMLModel",
            "_view_count": null,
            "_view_module": "@jupyter-widgets/controls",
            "_view_module_version": "1.5.0",
            "_view_name": "HTMLView",
            "description": "",
            "description_tooltip": null,
            "layout": "IPY_MODEL_40452bb9fc864d3b872d53168b2a6964",
            "placeholder": "​",
            "style": "IPY_MODEL_9efb335237d1484799f967610007657b",
            "value": " 1.20k/1.20k [00:00&lt;00:00, 52.3kB/s]"
          }
        },
        "3512224f8a0d4075a9f204591aa13a6b": {
          "model_module": "@jupyter-widgets/base",
          "model_name": "LayoutModel",
          "model_module_version": "1.2.0",
          "state": {
            "_model_module": "@jupyter-widgets/base",
            "_model_module_version": "1.2.0",
            "_model_name": "LayoutModel",
            "_view_count": null,
            "_view_module": "@jupyter-widgets/base",
            "_view_module_version": "1.2.0",
            "_view_name": "LayoutView",
            "align_content": null,
            "align_items": null,
            "align_self": null,
            "border": null,
            "bottom": null,
            "display": null,
            "flex": null,
            "flex_flow": null,
            "grid_area": null,
            "grid_auto_columns": null,
            "grid_auto_flow": null,
            "grid_auto_rows": null,
            "grid_column": null,
            "grid_gap": null,
            "grid_row": null,
            "grid_template_areas": null,
            "grid_template_columns": null,
            "grid_template_rows": null,
            "height": null,
            "justify_content": null,
            "justify_items": null,
            "left": null,
            "margin": null,
            "max_height": null,
            "max_width": null,
            "min_height": null,
            "min_width": null,
            "object_fit": null,
            "object_position": null,
            "order": null,
            "overflow": null,
            "overflow_x": null,
            "overflow_y": null,
            "padding": null,
            "right": null,
            "top": null,
            "visibility": null,
            "width": null
          }
        },
        "cd3a066b3b1845969e740e6d8a7033ba": {
          "model_module": "@jupyter-widgets/base",
          "model_name": "LayoutModel",
          "model_module_version": "1.2.0",
          "state": {
            "_model_module": "@jupyter-widgets/base",
            "_model_module_version": "1.2.0",
            "_model_name": "LayoutModel",
            "_view_count": null,
            "_view_module": "@jupyter-widgets/base",
            "_view_module_version": "1.2.0",
            "_view_name": "LayoutView",
            "align_content": null,
            "align_items": null,
            "align_self": null,
            "border": null,
            "bottom": null,
            "display": null,
            "flex": null,
            "flex_flow": null,
            "grid_area": null,
            "grid_auto_columns": null,
            "grid_auto_flow": null,
            "grid_auto_rows": null,
            "grid_column": null,
            "grid_gap": null,
            "grid_row": null,
            "grid_template_areas": null,
            "grid_template_columns": null,
            "grid_template_rows": null,
            "height": null,
            "justify_content": null,
            "justify_items": null,
            "left": null,
            "margin": null,
            "max_height": null,
            "max_width": null,
            "min_height": null,
            "min_width": null,
            "object_fit": null,
            "object_position": null,
            "order": null,
            "overflow": null,
            "overflow_x": null,
            "overflow_y": null,
            "padding": null,
            "right": null,
            "top": null,
            "visibility": null,
            "width": null
          }
        },
        "3181b3ec659947b795659044ba3854a5": {
          "model_module": "@jupyter-widgets/controls",
          "model_name": "DescriptionStyleModel",
          "model_module_version": "1.5.0",
          "state": {
            "_model_module": "@jupyter-widgets/controls",
            "_model_module_version": "1.5.0",
            "_model_name": "DescriptionStyleModel",
            "_view_count": null,
            "_view_module": "@jupyter-widgets/base",
            "_view_module_version": "1.2.0",
            "_view_name": "StyleView",
            "description_width": ""
          }
        },
        "5cf6c264802c4670b51b4e9d71eed57d": {
          "model_module": "@jupyter-widgets/base",
          "model_name": "LayoutModel",
          "model_module_version": "1.2.0",
          "state": {
            "_model_module": "@jupyter-widgets/base",
            "_model_module_version": "1.2.0",
            "_model_name": "LayoutModel",
            "_view_count": null,
            "_view_module": "@jupyter-widgets/base",
            "_view_module_version": "1.2.0",
            "_view_name": "LayoutView",
            "align_content": null,
            "align_items": null,
            "align_self": null,
            "border": null,
            "bottom": null,
            "display": null,
            "flex": null,
            "flex_flow": null,
            "grid_area": null,
            "grid_auto_columns": null,
            "grid_auto_flow": null,
            "grid_auto_rows": null,
            "grid_column": null,
            "grid_gap": null,
            "grid_row": null,
            "grid_template_areas": null,
            "grid_template_columns": null,
            "grid_template_rows": null,
            "height": null,
            "justify_content": null,
            "justify_items": null,
            "left": null,
            "margin": null,
            "max_height": null,
            "max_width": null,
            "min_height": null,
            "min_width": null,
            "object_fit": null,
            "object_position": null,
            "order": null,
            "overflow": null,
            "overflow_x": null,
            "overflow_y": null,
            "padding": null,
            "right": null,
            "top": null,
            "visibility": null,
            "width": null
          }
        },
        "ed915f3c44fc4338bf6a1970b201bbca": {
          "model_module": "@jupyter-widgets/controls",
          "model_name": "ProgressStyleModel",
          "model_module_version": "1.5.0",
          "state": {
            "_model_module": "@jupyter-widgets/controls",
            "_model_module_version": "1.5.0",
            "_model_name": "ProgressStyleModel",
            "_view_count": null,
            "_view_module": "@jupyter-widgets/base",
            "_view_module_version": "1.2.0",
            "_view_name": "StyleView",
            "bar_color": null,
            "description_width": ""
          }
        },
        "40452bb9fc864d3b872d53168b2a6964": {
          "model_module": "@jupyter-widgets/base",
          "model_name": "LayoutModel",
          "model_module_version": "1.2.0",
          "state": {
            "_model_module": "@jupyter-widgets/base",
            "_model_module_version": "1.2.0",
            "_model_name": "LayoutModel",
            "_view_count": null,
            "_view_module": "@jupyter-widgets/base",
            "_view_module_version": "1.2.0",
            "_view_name": "LayoutView",
            "align_content": null,
            "align_items": null,
            "align_self": null,
            "border": null,
            "bottom": null,
            "display": null,
            "flex": null,
            "flex_flow": null,
            "grid_area": null,
            "grid_auto_columns": null,
            "grid_auto_flow": null,
            "grid_auto_rows": null,
            "grid_column": null,
            "grid_gap": null,
            "grid_row": null,
            "grid_template_areas": null,
            "grid_template_columns": null,
            "grid_template_rows": null,
            "height": null,
            "justify_content": null,
            "justify_items": null,
            "left": null,
            "margin": null,
            "max_height": null,
            "max_width": null,
            "min_height": null,
            "min_width": null,
            "object_fit": null,
            "object_position": null,
            "order": null,
            "overflow": null,
            "overflow_x": null,
            "overflow_y": null,
            "padding": null,
            "right": null,
            "top": null,
            "visibility": null,
            "width": null
          }
        },
        "9efb335237d1484799f967610007657b": {
          "model_module": "@jupyter-widgets/controls",
          "model_name": "DescriptionStyleModel",
          "model_module_version": "1.5.0",
          "state": {
            "_model_module": "@jupyter-widgets/controls",
            "_model_module_version": "1.5.0",
            "_model_name": "DescriptionStyleModel",
            "_view_count": null,
            "_view_module": "@jupyter-widgets/base",
            "_view_module_version": "1.2.0",
            "_view_name": "StyleView",
            "description_width": ""
          }
        },
        "8c9c8098766740639a05bc31d85417b4": {
          "model_module": "@jupyter-widgets/controls",
          "model_name": "HBoxModel",
          "model_module_version": "1.5.0",
          "state": {
            "_dom_classes": [],
            "_model_module": "@jupyter-widgets/controls",
            "_model_module_version": "1.5.0",
            "_model_name": "HBoxModel",
            "_view_count": null,
            "_view_module": "@jupyter-widgets/controls",
            "_view_module_version": "1.5.0",
            "_view_name": "HBoxView",
            "box_style": "",
            "children": [
              "IPY_MODEL_5f1b5930988747e7b91881bda70e2f1c",
              "IPY_MODEL_2e8aca99f4cf41c4a24acacea2ab040b",
              "IPY_MODEL_6576a477edc545eeb858b69db9094f3b"
            ],
            "layout": "IPY_MODEL_b76f138a1fd14e218bae800e1bf5e12b"
          }
        },
        "5f1b5930988747e7b91881bda70e2f1c": {
          "model_module": "@jupyter-widgets/controls",
          "model_name": "HTMLModel",
          "model_module_version": "1.5.0",
          "state": {
            "_dom_classes": [],
            "_model_module": "@jupyter-widgets/controls",
            "_model_module_version": "1.5.0",
            "_model_name": "HTMLModel",
            "_view_count": null,
            "_view_module": "@jupyter-widgets/controls",
            "_view_module_version": "1.5.0",
            "_view_name": "HTMLView",
            "description": "",
            "description_tooltip": null,
            "layout": "IPY_MODEL_e872a3ff220148fbbb6f292510da4c30",
            "placeholder": "​",
            "style": "IPY_MODEL_9bc30ac2e29f4507be1a1807c90e203a",
            "value": "Downloading: 100%"
          }
        },
        "2e8aca99f4cf41c4a24acacea2ab040b": {
          "model_module": "@jupyter-widgets/controls",
          "model_name": "FloatProgressModel",
          "model_module_version": "1.5.0",
          "state": {
            "_dom_classes": [],
            "_model_module": "@jupyter-widgets/controls",
            "_model_module_version": "1.5.0",
            "_model_name": "FloatProgressModel",
            "_view_count": null,
            "_view_module": "@jupyter-widgets/controls",
            "_view_module_version": "1.5.0",
            "_view_name": "ProgressView",
            "bar_style": "success",
            "description": "",
            "description_tooltip": null,
            "layout": "IPY_MODEL_0a18ec70e040426e962519748ada6aa4",
            "max": 242065649,
            "min": 0,
            "orientation": "horizontal",
            "style": "IPY_MODEL_7c6ab6c16a0346019c2e833b2c5682bf",
            "value": 242065649
          }
        },
        "6576a477edc545eeb858b69db9094f3b": {
          "model_module": "@jupyter-widgets/controls",
          "model_name": "HTMLModel",
          "model_module_version": "1.5.0",
          "state": {
            "_dom_classes": [],
            "_model_module": "@jupyter-widgets/controls",
            "_model_module_version": "1.5.0",
            "_model_name": "HTMLModel",
            "_view_count": null,
            "_view_module": "@jupyter-widgets/controls",
            "_view_module_version": "1.5.0",
            "_view_name": "HTMLView",
            "description": "",
            "description_tooltip": null,
            "layout": "IPY_MODEL_f8bb08d3109b473193e68e558123f420",
            "placeholder": "​",
            "style": "IPY_MODEL_02c3ff2f8d414f0fbc3150e5596faf2d",
            "value": " 242M/242M [00:10&lt;00:00, 22.8MB/s]"
          }
        },
        "b76f138a1fd14e218bae800e1bf5e12b": {
          "model_module": "@jupyter-widgets/base",
          "model_name": "LayoutModel",
          "model_module_version": "1.2.0",
          "state": {
            "_model_module": "@jupyter-widgets/base",
            "_model_module_version": "1.2.0",
            "_model_name": "LayoutModel",
            "_view_count": null,
            "_view_module": "@jupyter-widgets/base",
            "_view_module_version": "1.2.0",
            "_view_name": "LayoutView",
            "align_content": null,
            "align_items": null,
            "align_self": null,
            "border": null,
            "bottom": null,
            "display": null,
            "flex": null,
            "flex_flow": null,
            "grid_area": null,
            "grid_auto_columns": null,
            "grid_auto_flow": null,
            "grid_auto_rows": null,
            "grid_column": null,
            "grid_gap": null,
            "grid_row": null,
            "grid_template_areas": null,
            "grid_template_columns": null,
            "grid_template_rows": null,
            "height": null,
            "justify_content": null,
            "justify_items": null,
            "left": null,
            "margin": null,
            "max_height": null,
            "max_width": null,
            "min_height": null,
            "min_width": null,
            "object_fit": null,
            "object_position": null,
            "order": null,
            "overflow": null,
            "overflow_x": null,
            "overflow_y": null,
            "padding": null,
            "right": null,
            "top": null,
            "visibility": null,
            "width": null
          }
        },
        "e872a3ff220148fbbb6f292510da4c30": {
          "model_module": "@jupyter-widgets/base",
          "model_name": "LayoutModel",
          "model_module_version": "1.2.0",
          "state": {
            "_model_module": "@jupyter-widgets/base",
            "_model_module_version": "1.2.0",
            "_model_name": "LayoutModel",
            "_view_count": null,
            "_view_module": "@jupyter-widgets/base",
            "_view_module_version": "1.2.0",
            "_view_name": "LayoutView",
            "align_content": null,
            "align_items": null,
            "align_self": null,
            "border": null,
            "bottom": null,
            "display": null,
            "flex": null,
            "flex_flow": null,
            "grid_area": null,
            "grid_auto_columns": null,
            "grid_auto_flow": null,
            "grid_auto_rows": null,
            "grid_column": null,
            "grid_gap": null,
            "grid_row": null,
            "grid_template_areas": null,
            "grid_template_columns": null,
            "grid_template_rows": null,
            "height": null,
            "justify_content": null,
            "justify_items": null,
            "left": null,
            "margin": null,
            "max_height": null,
            "max_width": null,
            "min_height": null,
            "min_width": null,
            "object_fit": null,
            "object_position": null,
            "order": null,
            "overflow": null,
            "overflow_x": null,
            "overflow_y": null,
            "padding": null,
            "right": null,
            "top": null,
            "visibility": null,
            "width": null
          }
        },
        "9bc30ac2e29f4507be1a1807c90e203a": {
          "model_module": "@jupyter-widgets/controls",
          "model_name": "DescriptionStyleModel",
          "model_module_version": "1.5.0",
          "state": {
            "_model_module": "@jupyter-widgets/controls",
            "_model_module_version": "1.5.0",
            "_model_name": "DescriptionStyleModel",
            "_view_count": null,
            "_view_module": "@jupyter-widgets/base",
            "_view_module_version": "1.2.0",
            "_view_name": "StyleView",
            "description_width": ""
          }
        },
        "0a18ec70e040426e962519748ada6aa4": {
          "model_module": "@jupyter-widgets/base",
          "model_name": "LayoutModel",
          "model_module_version": "1.2.0",
          "state": {
            "_model_module": "@jupyter-widgets/base",
            "_model_module_version": "1.2.0",
            "_model_name": "LayoutModel",
            "_view_count": null,
            "_view_module": "@jupyter-widgets/base",
            "_view_module_version": "1.2.0",
            "_view_name": "LayoutView",
            "align_content": null,
            "align_items": null,
            "align_self": null,
            "border": null,
            "bottom": null,
            "display": null,
            "flex": null,
            "flex_flow": null,
            "grid_area": null,
            "grid_auto_columns": null,
            "grid_auto_flow": null,
            "grid_auto_rows": null,
            "grid_column": null,
            "grid_gap": null,
            "grid_row": null,
            "grid_template_areas": null,
            "grid_template_columns": null,
            "grid_template_rows": null,
            "height": null,
            "justify_content": null,
            "justify_items": null,
            "left": null,
            "margin": null,
            "max_height": null,
            "max_width": null,
            "min_height": null,
            "min_width": null,
            "object_fit": null,
            "object_position": null,
            "order": null,
            "overflow": null,
            "overflow_x": null,
            "overflow_y": null,
            "padding": null,
            "right": null,
            "top": null,
            "visibility": null,
            "width": null
          }
        },
        "7c6ab6c16a0346019c2e833b2c5682bf": {
          "model_module": "@jupyter-widgets/controls",
          "model_name": "ProgressStyleModel",
          "model_module_version": "1.5.0",
          "state": {
            "_model_module": "@jupyter-widgets/controls",
            "_model_module_version": "1.5.0",
            "_model_name": "ProgressStyleModel",
            "_view_count": null,
            "_view_module": "@jupyter-widgets/base",
            "_view_module_version": "1.2.0",
            "_view_name": "StyleView",
            "bar_color": null,
            "description_width": ""
          }
        },
        "f8bb08d3109b473193e68e558123f420": {
          "model_module": "@jupyter-widgets/base",
          "model_name": "LayoutModel",
          "model_module_version": "1.2.0",
          "state": {
            "_model_module": "@jupyter-widgets/base",
            "_model_module_version": "1.2.0",
            "_model_name": "LayoutModel",
            "_view_count": null,
            "_view_module": "@jupyter-widgets/base",
            "_view_module_version": "1.2.0",
            "_view_name": "LayoutView",
            "align_content": null,
            "align_items": null,
            "align_self": null,
            "border": null,
            "bottom": null,
            "display": null,
            "flex": null,
            "flex_flow": null,
            "grid_area": null,
            "grid_auto_columns": null,
            "grid_auto_flow": null,
            "grid_auto_rows": null,
            "grid_column": null,
            "grid_gap": null,
            "grid_row": null,
            "grid_template_areas": null,
            "grid_template_columns": null,
            "grid_template_rows": null,
            "height": null,
            "justify_content": null,
            "justify_items": null,
            "left": null,
            "margin": null,
            "max_height": null,
            "max_width": null,
            "min_height": null,
            "min_width": null,
            "object_fit": null,
            "object_position": null,
            "order": null,
            "overflow": null,
            "overflow_x": null,
            "overflow_y": null,
            "padding": null,
            "right": null,
            "top": null,
            "visibility": null,
            "width": null
          }
        },
        "02c3ff2f8d414f0fbc3150e5596faf2d": {
          "model_module": "@jupyter-widgets/controls",
          "model_name": "DescriptionStyleModel",
          "model_module_version": "1.5.0",
          "state": {
            "_model_module": "@jupyter-widgets/controls",
            "_model_module_version": "1.5.0",
            "_model_name": "DescriptionStyleModel",
            "_view_count": null,
            "_view_module": "@jupyter-widgets/base",
            "_view_module_version": "1.2.0",
            "_view_name": "StyleView",
            "description_width": ""
          }
        }
      }
    }
  },
  "cells": [
    {
      "cell_type": "code",
      "source": [
        "!pip install transformers\n",
        "!pip install sentencepiece"
      ],
      "metadata": {
        "colab": {
          "base_uri": "https://localhost:8080/"
        },
        "id": "Odyxu_pNshiz",
        "outputId": "8df420c2-3a78-4256-db56-80125418e596"
      },
      "execution_count": 1,
      "outputs": [
        {
          "output_type": "stream",
          "name": "stdout",
          "text": [
            "Looking in indexes: https://pypi.org/simple, https://us-python.pkg.dev/colab-wheels/public/simple/\n",
            "Collecting transformers\n",
            "  Downloading transformers-4.25.1-py3-none-any.whl (5.8 MB)\n",
            "\u001b[K     |████████████████████████████████| 5.8 MB 5.0 MB/s \n",
            "\u001b[?25hRequirement already satisfied: regex!=2019.12.17 in /usr/local/lib/python3.8/dist-packages (from transformers) (2022.6.2)\n",
            "Requirement already satisfied: requests in /usr/local/lib/python3.8/dist-packages (from transformers) (2.23.0)\n",
            "Requirement already satisfied: pyyaml>=5.1 in /usr/local/lib/python3.8/dist-packages (from transformers) (6.0)\n",
            "Requirement already satisfied: filelock in /usr/local/lib/python3.8/dist-packages (from transformers) (3.8.0)\n",
            "Requirement already satisfied: numpy>=1.17 in /usr/local/lib/python3.8/dist-packages (from transformers) (1.21.6)\n",
            "Requirement already satisfied: tqdm>=4.27 in /usr/local/lib/python3.8/dist-packages (from transformers) (4.64.1)\n",
            "Collecting tokenizers!=0.11.3,<0.14,>=0.11.1\n",
            "  Downloading tokenizers-0.13.2-cp38-cp38-manylinux_2_17_x86_64.manylinux2014_x86_64.whl (7.6 MB)\n",
            "\u001b[K     |████████████████████████████████| 7.6 MB 22.4 MB/s \n",
            "\u001b[?25hCollecting huggingface-hub<1.0,>=0.10.0\n",
            "  Downloading huggingface_hub-0.11.1-py3-none-any.whl (182 kB)\n",
            "\u001b[K     |████████████████████████████████| 182 kB 95.4 MB/s \n",
            "\u001b[?25hRequirement already satisfied: packaging>=20.0 in /usr/local/lib/python3.8/dist-packages (from transformers) (21.3)\n",
            "Requirement already satisfied: typing-extensions>=3.7.4.3 in /usr/local/lib/python3.8/dist-packages (from huggingface-hub<1.0,>=0.10.0->transformers) (4.1.1)\n",
            "Requirement already satisfied: pyparsing!=3.0.5,>=2.0.2 in /usr/local/lib/python3.8/dist-packages (from packaging>=20.0->transformers) (3.0.9)\n",
            "Requirement already satisfied: chardet<4,>=3.0.2 in /usr/local/lib/python3.8/dist-packages (from requests->transformers) (3.0.4)\n",
            "Requirement already satisfied: urllib3!=1.25.0,!=1.25.1,<1.26,>=1.21.1 in /usr/local/lib/python3.8/dist-packages (from requests->transformers) (1.24.3)\n",
            "Requirement already satisfied: idna<3,>=2.5 in /usr/local/lib/python3.8/dist-packages (from requests->transformers) (2.10)\n",
            "Requirement already satisfied: certifi>=2017.4.17 in /usr/local/lib/python3.8/dist-packages (from requests->transformers) (2022.9.24)\n",
            "Installing collected packages: tokenizers, huggingface-hub, transformers\n",
            "Successfully installed huggingface-hub-0.11.1 tokenizers-0.13.2 transformers-4.25.1\n",
            "Looking in indexes: https://pypi.org/simple, https://us-python.pkg.dev/colab-wheels/public/simple/\n",
            "Collecting sentencepiece\n",
            "  Downloading sentencepiece-0.1.97-cp38-cp38-manylinux_2_17_x86_64.manylinux2014_x86_64.whl (1.3 MB)\n",
            "\u001b[K     |████████████████████████████████| 1.3 MB 5.1 MB/s \n",
            "\u001b[?25hInstalling collected packages: sentencepiece\n",
            "Successfully installed sentencepiece-0.1.97\n"
          ]
        }
      ]
    },
    {
      "cell_type": "markdown",
      "source": [
        "# MultiCoNER II"
      ],
      "metadata": {
        "id": "zMx0-rgU1ATD"
      }
    },
    {
      "cell_type": "markdown",
      "source": [
        "English to French Translation using T5-small pre-trained model"
      ],
      "metadata": {
        "id": "FBRyKU6o1Uh5"
      }
    },
    {
      "cell_type": "code",
      "source": [
        "from transformers import T5Tokenizer, T5ForConditionalGeneration\n",
        "\n",
        "tokenizer_en_fr = T5Tokenizer.from_pretrained(\"t5-small\")\n",
        "model_en_fr = T5ForConditionalGeneration.from_pretrained(\"t5-small\")\n",
        "task_prefix = \"translate English to French: \""
      ],
      "metadata": {
        "colab": {
          "base_uri": "https://localhost:8080/",
          "height": 237,
          "referenced_widgets": [
            "cc379db0012347e7935c93b273c71708",
            "ab54c2f16d7348889ea71717c34a78a4",
            "3761def4b6f3469d9b8b73344f822312",
            "a097543f147640488f8c7d040a645263",
            "affb92a8259e44db94f7ec27376f2763",
            "ad31c4a7d4704a2b89fac8e57835c508",
            "2e94cbebde5f4337b22c6ce479db57c8",
            "4d87c01dfc694df8b5b9885ee4bea082",
            "360123a24b9a470ea9b1d6d5319bcf5d",
            "3add83fec8bf47a4b3811d703434318e",
            "f2d0a9a5ff6f498d85def963342d1fbf",
            "7e63ddf1b90443aeb602acb639e90b91",
            "2b9d9728c454472eae6287421c026091",
            "6c7bd70607bb45a9b1b49e51f1500a61",
            "13171dd06fbc45249cb0b6568491ed90",
            "3512224f8a0d4075a9f204591aa13a6b",
            "cd3a066b3b1845969e740e6d8a7033ba",
            "3181b3ec659947b795659044ba3854a5",
            "5cf6c264802c4670b51b4e9d71eed57d",
            "ed915f3c44fc4338bf6a1970b201bbca",
            "40452bb9fc864d3b872d53168b2a6964",
            "9efb335237d1484799f967610007657b",
            "8c9c8098766740639a05bc31d85417b4",
            "5f1b5930988747e7b91881bda70e2f1c",
            "2e8aca99f4cf41c4a24acacea2ab040b",
            "6576a477edc545eeb858b69db9094f3b",
            "b76f138a1fd14e218bae800e1bf5e12b",
            "e872a3ff220148fbbb6f292510da4c30",
            "9bc30ac2e29f4507be1a1807c90e203a",
            "0a18ec70e040426e962519748ada6aa4",
            "7c6ab6c16a0346019c2e833b2c5682bf",
            "f8bb08d3109b473193e68e558123f420",
            "02c3ff2f8d414f0fbc3150e5596faf2d"
          ]
        },
        "id": "PGwPQWWr2-0h",
        "outputId": "ffbef3c6-f7d5-424e-f9cc-702789c0fa98"
      },
      "execution_count": 7,
      "outputs": [
        {
          "output_type": "display_data",
          "data": {
            "text/plain": [
              "Downloading:   0%|          | 0.00/792k [00:00<?, ?B/s]"
            ],
            "application/vnd.jupyter.widget-view+json": {
              "version_major": 2,
              "version_minor": 0,
              "model_id": "cc379db0012347e7935c93b273c71708"
            }
          },
          "metadata": {}
        },
        {
          "output_type": "display_data",
          "data": {
            "text/plain": [
              "Downloading:   0%|          | 0.00/1.20k [00:00<?, ?B/s]"
            ],
            "application/vnd.jupyter.widget-view+json": {
              "version_major": 2,
              "version_minor": 0,
              "model_id": "7e63ddf1b90443aeb602acb639e90b91"
            }
          },
          "metadata": {}
        },
        {
          "output_type": "stream",
          "name": "stderr",
          "text": [
            "/usr/local/lib/python3.8/dist-packages/transformers/models/t5/tokenization_t5.py:163: FutureWarning: This tokenizer was incorrectly instantiated with a model max length of 512 which will be corrected in Transformers v5.\n",
            "For now, this behavior is kept to avoid breaking backwards compatibility when padding/encoding with `truncation is True`.\n",
            "- Be aware that you SHOULD NOT rely on t5-small automatically truncating your input to 512 when padding/encoding.\n",
            "- If you want to encode/pad to sequences longer than 512 you can either instantiate this tokenizer with `model_max_length` or pass `max_length` when encoding/padding.\n",
            "- To avoid this warning, please instantiate this tokenizer with `model_max_length` set to your preferred value.\n",
            "  warnings.warn(\n"
          ]
        },
        {
          "output_type": "display_data",
          "data": {
            "text/plain": [
              "Downloading:   0%|          | 0.00/242M [00:00<?, ?B/s]"
            ],
            "application/vnd.jupyter.widget-view+json": {
              "version_major": 2,
              "version_minor": 0,
              "model_id": "8c9c8098766740639a05bc31d85417b4"
            }
          },
          "metadata": {}
        }
      ]
    },
    {
      "cell_type": "code",
      "source": [
        "coner_tags =[\n",
        "    # Location - LOC\n",
        "    \"B-Facility\", \"I-Facility\", \"B-OtherLOC\", \"I-OtherLOC\", \"B-HumanSettlement\", \"I-HumanSettlement\", \"B-Station\", \"I-Station\",\n",
        "    # Creative Work - CW\n",
        "    \"B-VisualWork\", \"I-VisualWork\", \"B-MusicalWork\", \"I-MusicalWork\", \"B-WrittenWork\", \"I-WrittenWork\",\n",
        "    \"B-ArtWork\", \"I-ArtWork\", \"B-Software\", \"I-Software\", \"B-OtherCW\", \"I-OtherCW\",\n",
        "    # Group - GRP\n",
        "    \"B-MusicalGRP\", \"I-MusicalGRP\", \"B-PublicCORP\", \"I-PublicCORP\", \"B-PrivateCORP\", \"I-PrivateCORP\",\n",
        "    \"B-OtherCORP\", \"I-OtherCORP\", \"B-AerospaceManufacturer\", \"I-AerospaceManufacturer\", \"B-SportsGRP\", \"I-SportsGRP\",\n",
        "    \"B-CarManufacturer\", \"I-CarManufacturer\", \"B-TechCORP\", \"I-TechCORP\", \"B-ORG\", \"I-ORG\",\n",
        "    # Person - PER\n",
        "    \"B-Scientist\", \"I-Scientist\", \"B-Artist\", \"I-Artist\", \"B-Athlete\", \"I-Athlete\", \"B-Politician\", \"I-Politician\",\n",
        "    \"B-Cleric\", \"I-Cleric\", \"B-SportsManager\", \"I-SportsManager\", \"B-OtherPER\", \"I-OtherPER\",\n",
        "    # Product - PROD\n",
        "    \"B-Clothing\", \"I-Clothing\", \"B-Vehicle\", \"I-Vehicle\", \"B-Food\", \"I-Food\", \"B-Drink\", \"I-Drink\", \"B-OtherPROD\", \"I-OtherPROD\",\n",
        "    # Medical - MED\n",
        "    \"B-Medication/Vaccine\", \"I-Medication/Vaccine\", \"B-MedicalProcedure\", \"I-MedicalProcedure\",\n",
        "    \"B-AnatomicalStructure\", \"I-AnatomicalStructure\", \"B-Symptom\", \"I-Symptom\", \"B-Disease\", \"I-Disease\",\n",
        "]"
      ],
      "metadata": {
        "id": "c6wJEiV-5DEq"
      },
      "execution_count": 8,
      "outputs": []
    },
    {
      "cell_type": "code",
      "source": [
        "in_path = \"/content/en-train.conll\"\n",
        "\n",
        "sent_list = []\n",
        "sentence = \"\"\n",
        "with open(in_path, 'r') as inf:\n",
        "    for line in inf:\n",
        "      line = line.strip()\n",
        "      if line != '':\n",
        "          if line[0] == '#':\n",
        "              continue\n",
        "          else:\n",
        "              line = line.split()\n",
        "              #print(line)\n",
        "              if len(line) >= 2:\n",
        "                  if line[-1] in coner_tags:\n",
        "                    sentence =  sentence + \" \" + line[0] + \" \" + line[-1]\n",
        "                    #print(sentence)\n",
        "                  else:\n",
        "                    sentence = sentence + \" \" + line[0]\n",
        "                    #print(sentence)\n",
        "      else:\n",
        "        if sentence != \"\":\n",
        "          sent_list.append(sentence)\n",
        "          sentence = \"\"\n",
        "\n",
        "print(len(sent_list))"
      ],
      "metadata": {
        "colab": {
          "base_uri": "https://localhost:8080/"
        },
        "id": "lr76v_6YgY5V",
        "outputId": "7b10d643-2e0c-488a-d435-2a9abcb856e6"
      },
      "execution_count": 9,
      "outputs": [
        {
          "output_type": "stream",
          "name": "stdout",
          "text": [
            "16778\n"
          ]
        }
      ]
    },
    {
      "cell_type": "code",
      "source": [
        "print(sent_list[0])"
      ],
      "metadata": {
        "colab": {
          "base_uri": "https://localhost:8080/"
        },
        "id": "ITfhFbAlIO29",
        "outputId": "4be75480-4549-4043-fbb3-d9ea328ccdd5"
      },
      "execution_count": 10,
      "outputs": [
        {
          "output_type": "stream",
          "name": "stdout",
          "text": [
            " robert B-OtherPER gottschalk I-OtherPER 1939 academy B-VisualWork award I-VisualWork winner and founder of panavision B-ORG\n"
          ]
        }
      ]
    },
    {
      "cell_type": "code",
      "source": [
        "# do batch translation\n",
        "inputs = tokenizer_en_fr([task_prefix + s for s in sent_list ],  max_length=64, truncation=True, return_tensors=\"pt\", padding=True)\n",
        "\n",
        "output_sequences = model_en_fr.generate(\n",
        "    max_length=64,\n",
        "    input_ids=inputs[\"input_ids\"],\n",
        "    #attention_mask=inputs[\"attention_mask\"],\n",
        "    do_sample=False,  # disable sampling to test if batching affects output\n",
        ")\n",
        "translated_list = tokenizer_en_fr.batch_decode(output_sequences, skip_special_tokens=True)"
      ],
      "metadata": {
        "id": "5_HJsRsCg86i"
      },
      "execution_count": 11,
      "outputs": []
    },
    {
      "cell_type": "code",
      "source": [
        "print(len(translated_list))\n",
        "print(translated_list[2])"
      ],
      "metadata": {
        "colab": {
          "base_uri": "https://localhost:8080/"
        },
        "id": "MK7meOCuh0vh",
        "outputId": "7f864b63-25bf-4858-fe39-d59b2a6d6a27"
      },
      "execution_count": 12,
      "outputs": [
        {
          "output_type": "stream",
          "name": "stdout",
          "text": [
            "16778\n",
            "d’autres recherches ont conduit dans les années 60 à la représentation bahadur B-OtherPER qui fournit des informations sur les erreurs.\n"
          ]
        }
      ]
    },
    {
      "cell_type": "code",
      "source": [
        "out_path = \"/content/en-fr-train.conll\"\n",
        "\n",
        "cnt = 0\n",
        "with open(in_path, 'r') as inf, open(out_path, 'w') as of:\n",
        "    for line in inf:\n",
        "        if line[0] == '#':\n",
        "            of.write(line)\n",
        "            of.write(translated_list[cnt] + '\\n')\n",
        "            of.write(\"\\n\")\n",
        "            cnt += 1\n",
        "        else:\n",
        "          continue\n"
      ],
      "metadata": {
        "id": "pUOOdDcvhK_2"
      },
      "execution_count": 13,
      "outputs": []
    },
    {
      "cell_type": "markdown",
      "source": [
        "French to English translation usin Helsinki French to English pre-trained model"
      ],
      "metadata": {
        "id": "JCDzIv0EnBn6"
      }
    },
    {
      "cell_type": "code",
      "source": [
        "from transformers import AutoTokenizer, AutoModelForSeq2SeqLM\n",
        "\n",
        "tokenizer_fr_en = AutoTokenizer.from_pretrained(\"Helsinki-NLP/opus-mt-fr-en\")\n",
        "\n",
        "model_fr_en = AutoModelForSeq2SeqLM.from_pretrained(\"Helsinki-NLP/opus-mt-fr-en\")\n"
      ],
      "metadata": {
        "colab": {
          "base_uri": "https://localhost:8080/"
        },
        "id": "4PGLrfIWUDoH",
        "outputId": "792c9904-ce31-4e82-cd78-057675fc1b51"
      },
      "execution_count": null,
      "outputs": [
        {
          "output_type": "stream",
          "name": "stderr",
          "text": [
            "/usr/local/lib/python3.8/dist-packages/transformers/models/marian/tokenization_marian.py:194: UserWarning: Recommended: pip install sacremoses.\n",
            "  warnings.warn(\"Recommended: pip install sacremoses.\")\n"
          ]
        }
      ]
    },
    {
      "cell_type": "code",
      "source": [
        "in_path_fr = \"/content/fr-train.conll\"\n",
        "\n",
        "sent_list_fr = []\n",
        "sentence = \"\"\n",
        "with open(in_path_fr, 'r') as inf:\n",
        "    for line in inf:\n",
        "      line = line.strip()\n",
        "      if line != '':\n",
        "          if line[0] == '#':\n",
        "              continue\n",
        "          else:\n",
        "              line = line.split()\n",
        "              #print(line)\n",
        "              if len(line) >= 2:\n",
        "                  if line[-1] in coner_tags:\n",
        "                    sentence =  sentence + \" \" + line[0] + \" \" + line[-1]\n",
        "                    #print(sentence)\n",
        "                  else:\n",
        "                    sentence = sentence + \" \" + line[0]\n",
        "                    #print(sentence)\n",
        "      else:\n",
        "        if sentence != \"\":\n",
        "          sent_list_fr.append(sentence)\n",
        "          sentence = \"\"\n",
        "\n",
        "print(len(sent_list_fr))\n",
        "print(sent_list_fr[1])"
      ],
      "metadata": {
        "colab": {
          "base_uri": "https://localhost:8080/"
        },
        "id": "yoYXf1rJXrl-",
        "outputId": "f39a367c-e213-4889-b36a-408906d62197"
      },
      "execution_count": null,
      "outputs": [
        {
          "output_type": "stream",
          "name": "stdout",
          "text": [
            "16548\n",
            " salvien B-Artist de I-Artist marseille I-Artist auteur latin chrétien ( date approximative ) .\n"
          ]
        }
      ]
    },
    {
      "cell_type": "code",
      "source": [
        "data_len = len(sent_list_fr)\n",
        "batch_num = data_len // 2000\n",
        "print(batch_num)"
      ],
      "metadata": {
        "colab": {
          "base_uri": "https://localhost:8080/"
        },
        "id": "U79hqBKunHvf",
        "outputId": "4747ea14-3f30-4154-b8cc-c40193dbe5c8"
      },
      "execution_count": null,
      "outputs": [
        {
          "output_type": "stream",
          "name": "stdout",
          "text": [
            "8\n"
          ]
        }
      ]
    },
    {
      "cell_type": "code",
      "source": [
        "# Since I was running out of RAM, I divided the data into groups of 2000 samples\n",
        "\n",
        "translated_list_fr_en = []\n",
        "for i in range(batch_num):\n",
        "  inputs_fr_en = tokenizer_fr_en([s for s in sent_list_fr[i*2000:i*2000+2000]],  max_length=64, truncation=True, return_tensors=\"pt\", padding=True)\n",
        "\n",
        "  output_sequences_fr_en = model_fr_en.generate(\n",
        "      max_length=64,\n",
        "      input_ids=inputs_fr_en[\"input_ids\"],\n",
        "      #attention_mask=inputs[\"attention_mask\"],\n",
        "      do_sample=False,  # disable sampling to test if batching affects output\n",
        "  )\n",
        "  temp = tokenizer_fr_en.batch_decode(output_sequences_fr_en, skip_special_tokens=True)\n",
        "  translated_list_fr_en = translated_list_fr_en + temp\n",
        "\n",
        "print(len(translated_list_fr_en))"
      ],
      "metadata": {
        "colab": {
          "base_uri": "https://localhost:8080/"
        },
        "id": "go7ShGLvnvuo",
        "outputId": "ec92dd93-ea9b-4c54-832f-a958a4311166"
      },
      "execution_count": null,
      "outputs": [
        {
          "output_type": "stream",
          "name": "stdout",
          "text": [
            "16000\n"
          ]
        }
      ]
    },
    {
      "cell_type": "code",
      "source": [
        "# The rest of the dataset\n",
        "inputs_fr_en = tokenizer_fr_en([s for s in sent_list_fr[8*2000:]],  max_length=64, truncation=True, return_tensors=\"pt\", padding=True)\n",
        "\n",
        "output_sequences_fr_en = model_fr_en.generate(\n",
        "    max_length=64,\n",
        "    input_ids=inputs_fr_en[\"input_ids\"],\n",
        "    #attention_mask=inputs[\"attention_mask\"],\n",
        "    do_sample=False,  # disable sampling to test if batching affects output\n",
        ")\n",
        "temp = tokenizer_fr_en.batch_decode(output_sequences_fr_en, skip_special_tokens=True)\n",
        "translated_list_fr_en = translated_list_fr_en + temp\n",
        "print(len(translated_list_fr_en))"
      ],
      "metadata": {
        "colab": {
          "base_uri": "https://localhost:8080/"
        },
        "id": "BpOu1k9QodJG",
        "outputId": "ad40a081-541c-4f3f-fa44-8c1e8abbfd82"
      },
      "execution_count": null,
      "outputs": [
        {
          "output_type": "stream",
          "name": "stdout",
          "text": [
            "16548\n"
          ]
        }
      ]
    },
    {
      "cell_type": "code",
      "source": [
        "print(len(translated_list_fr_en))\n",
        "print(translated_list_fr_en[2])"
      ],
      "metadata": {
        "id": "KRGfjydDY_cY",
        "colab": {
          "base_uri": "https://localhost:8080/"
        },
        "outputId": "d4eef2ae-b63a-4ff5-c5ab-1164a5bb57c0"
      },
      "execution_count": null,
      "outputs": [
        {
          "output_type": "stream",
          "name": "stdout",
          "text": [
            "16548\n",
            "it is presented alternately by annette B-Artist Gerlach I-Artist gustav B-Artist hofer I-Artist and marie B-OtherPER laboratory I-OtherPER.\n"
          ]
        }
      ]
    },
    {
      "cell_type": "code",
      "source": [
        "out_path_fr_en = \"/content/fr-en-train.conll\"\n",
        "\n",
        "cnt = 0\n",
        "with open(in_path_fr, 'r') as inf, open(out_path_fr_en, 'w') as of:\n",
        "    for line in inf:\n",
        "        if line[0] == '#':\n",
        "            of.write(line)\n",
        "            of.write(translated_list_fr_en[cnt] + '\\n')\n",
        "            of.write(\"\\n\")\n",
        "            cnt += 1\n",
        "        else:\n",
        "          continue\n"
      ],
      "metadata": {
        "id": "XrBmk0EUZFcx"
      },
      "execution_count": null,
      "outputs": []
    },
    {
      "cell_type": "markdown",
      "source": [
        "**Use tools/line2cols.py to change the format of the samples. This code will return sentences (one line per sample), line2col.py will change a line to columns , entities along with their tags**"
      ],
      "metadata": {
        "id": "ILyThoUxNV20"
      }
    }
  ]
}